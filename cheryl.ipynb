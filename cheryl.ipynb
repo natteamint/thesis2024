{
 "cells": [
  {
   "cell_type": "code",
   "execution_count": 1,
   "metadata": {
    "id": "32X9aXjcS-GK"
   },
   "outputs": [],
   "source": [
    "import numpy as np\n",
    "import matplotlib.pyplot as plt"
   ]
  },
  {
   "cell_type": "code",
   "execution_count": 2,
   "metadata": {
    "id": "2SjtnvJy4S9t"
   },
   "outputs": [],
   "source": [
    "eps = {'x': 0.4, 'y': 0.4}\n",
    "gl_bounds = {'x': [0, 1], 'y': [0, 1]} # global bounds\n",
    "true_coords = {'x': 0.6, 'y': 0.4}\n",
    "\n",
    "# store rectangles as [x_min, x_max, y_min, y_max]\n",
    "rects = np.array([[0, 0.5, 0, 0.5],\n",
    "                    [0, 1, 0.75, 1],\n",
    "                    [0.8, 1, 0, 0.2]])\n",
    "\n",
    "# limit to the bounded area\n",
    "rects[:, :2] = np.clip(rects[:, :2], gl_bounds['x'][0], gl_bounds['x'][1])\n",
    "rects[:, 2:] = np.clip(rects[:, 2:], gl_bounds['y'][0], gl_bounds['y'][1])"
   ]
  },
  {
   "cell_type": "code",
   "execution_count": 3,
   "metadata": {
    "colab": {
     "base_uri": "https://localhost:8080/"
    },
    "id": "chtZctMxH3tw",
    "outputId": "d01ae013-fe45-4114-cdc5-a6cefbcdfd77"
   },
   "outputs": [
    {
     "data": {
      "text/plain": [
       "array([[False,  True, False],\n",
       "       [False,  True,  True],\n",
       "       [ True,  True,  True],\n",
       "       [False, False, False]])"
      ]
     },
     "execution_count": 3,
     "metadata": {},
     "output_type": "execute_result"
    }
   ],
   "source": [
    "grid = {'x': np.unique(np.concatenate([gl_bounds['x'], rects[:, 0], rects[:, 1]])), # np.unique sorts the values\n",
    "        'y': np.unique(np.concatenate([gl_bounds['y'], rects[:, 2], rects[:, 3]]))}\n",
    "possible_cells = np.full((grid['y'].shape[0] - 1, grid['x'].shape[0] - 1), True)\n",
    "\n",
    "def mark_area_impossible(grid, possible_cells, rect):\n",
    "    x_id, = np.where(np.isclose(grid['x'], rect[0]))[0]\n",
    "    y_id, = np.where(np.isclose(grid['y'], rect[2]))[0]\n",
    "    st_x_id = x_id\n",
    "    has_changed = False\n",
    "    while grid['y'][y_id] < rect[3]:\n",
    "        while grid['x'][x_id] < rect[1]:\n",
    "            if possible_cells[y_id, x_id]:\n",
    "                has_changed = True\n",
    "            possible_cells[y_id, x_id] = False\n",
    "            x_id += 1\n",
    "        x_id = st_x_id\n",
    "        y_id += 1\n",
    "    return has_changed\n",
    "\n",
    "for rect in rects:\n",
    "    mark_area_impossible(grid, possible_cells, rect)\n",
    "possible_cells"
   ]
  },
  {
   "cell_type": "code",
   "execution_count": 4,
   "metadata": {
    "colab": {
     "base_uri": "https://localhost:8080/",
     "height": 528
    },
    "id": "cYD_JgcdrNo5",
    "outputId": "f0c956ca-d4ae-4e06-b66f-d42e80be3158"
   },
   "outputs": [
    {
     "data": {
      "image/png": "[encoded data removed]",
      "text/plain": [
       "<Figure size 600x600 with 1 Axes>"
      ]
     },
     "metadata": {},
     "output_type": "display_data"
    }
   ],
   "source": [
    "# draw grid, impossible areas and true coordinates\n",
    "def draw(fig, ax, grid, possible_cells, true_coords, gl_bounds):\n",
    "    ax.vlines(grid['x'], gl_bounds['y'][0], gl_bounds['y'][1], colors='blue')\n",
    "    ax.hlines(grid['y'], gl_bounds['x'][0], gl_bounds['x'][1], colors='blue')\n",
    "\n",
    "    ax.plot(true_coords['x'], true_coords['y'], marker='o', color='red')\n",
    "    ax.vlines(true_coords['x'], 0, 1, colors='red', linestyle='dashed')\n",
    "    ax.hlines(true_coords['y'], 0, 1, colors='red', linestyle='dashed')\n",
    "\n",
    "    for row_id in range(possible_cells.shape[0]):\n",
    "        for col_id in range(possible_cells.shape[1]):\n",
    "            if not possible_cells[row_id, col_id]:\n",
    "                x = [grid['x'][col_id], grid['x'][col_id], grid['x'][col_id + 1], grid['x'][col_id + 1]]\n",
    "                y = [grid['y'][row_id], grid['y'][row_id + 1], grid['y'][row_id + 1], grid['y'][row_id]]\n",
    "                ax.fill(x, y, color='orange')\n",
    "\n",
    "    ax.set(xlim=gl_bounds['x'], ylim=gl_bounds['y'])\n",
    "\n",
    "fig, ax = plt.subplots(figsize=(6, 6))\n",
    "draw(fig, ax, grid, possible_cells, true_coords, gl_bounds)\n",
    "# plt.show()"
   ]
  },
  {
   "cell_type": "code",
   "execution_count": 5,
   "metadata": {
    "id": "5_F-jABYEO7k"
   },
   "outputs": [],
   "source": [
    "def is_smaller_eps(coord, axis, grid, possible_cells, eps, gl_bounds):\n",
    "    # coord: float in [0, 1] - coord in axis\n",
    "    # axis: 'x' or 'y'\n",
    "    cell_id = np.searchsorted(grid[axis][:-1], coord, side='right') - 1 # index of corresponding column/row of cells\n",
    "    first_avail, last_avail = None, None\n",
    "    oa_idx = 0 if axis == 'x' else 1 # other axis id for possible_cells\n",
    "    for i in range(possible_cells.shape[oa_idx]):\n",
    "        row_id, col_id = cell_id, i\n",
    "        if axis == 'x':\n",
    "            row_id, col_id = col_id, row_id\n",
    "        if possible_cells[row_id, col_id]:\n",
    "            first_avail = i\n",
    "            break\n",
    "    for i in range(possible_cells.shape[oa_idx] - 1, -1, -1):\n",
    "        row_id, col_id = cell_id, i\n",
    "        if axis == 'x':\n",
    "            row_id, col_id = col_id, row_id\n",
    "        if possible_cells[row_id, col_id]:\n",
    "            last_avail = i\n",
    "            break\n",
    "    if first_avail is None or last_avail is None:\n",
    "        return False # no possible cells for that coordinate\n",
    "    return grid[axis][last_avail + 1] - grid[axis][first_avail] < eps[axis]"
   ]
  },
  {
   "cell_type": "code",
   "execution_count": 6,
   "metadata": {
    "id": "-z5cqrmsHQh0"
   },
   "outputs": [],
   "source": [
    "def remove_impossible_areas(axis, remove_small, grid, possible_cells, true_coords, eps, gl_bounds):\n",
    "    axis_idx = 0 if axis == 'y' else 1\n",
    "    has_changed = False\n",
    "    for cell_id in range(possible_cells.shape[axis_idx]):\n",
    "        mid_coord = (grid[axis][cell_id + 1] - grid[axis][cell_id]) / 2\n",
    "        if is_smaller_eps(mid_coord, axis, grid, possible_cells, eps, gl_bounds) == remove_small:\n",
    "            rect = [gl_bounds['x'][0], gl_bounds['x'][1], grid['y'][cell_id], grid['y'][cell_id + 1]] if axis == 'y' \\\n",
    "                    else [grid['x'][cell_id], grid['x'][cell_id + 1], gl_bounds['y'][0], gl_bounds['y'][1]]\n",
    "            has_changed_local = mark_area_impossible(grid, possible_cells, rect)\n",
    "            has_changed = has_changed or has_changed_local\n",
    "            # if has_changed_local:\n",
    "            #     has_changed = True\n",
    "    return has_changed"
   ]
  },
  {
   "cell_type": "code",
   "execution_count": 7,
   "metadata": {
    "id": "dsLFpUOEHQkF"
   },
   "outputs": [],
   "source": [
    "def run_process(eps, gl_bounds, true_coords, grid, possible_cells):\n",
    "    axis = 'x'\n",
    "    does_know = {'x': False, 'y': False}\n",
    "    has_changed_prev = True\n",
    "\n",
    "    nrows, ncols = 2, 2\n",
    "    fig, axs = plt.subplots(nrows, ncols, figsize=(12, 12))\n",
    "\n",
    "    ax_i = 0\n",
    "    ax_j = 0\n",
    "\n",
    "    while not (does_know['x'] and does_know['y']):\n",
    "        if is_smaller_eps(true_coords[axis], axis, grid, possible_cells, eps, gl_bounds):\n",
    "            print(axis, \"knows\")\n",
    "            does_know[axis] = True\n",
    "            has_changed = remove_impossible_areas(axis, False, grid, possible_cells, true_coords, eps, gl_bounds)\n",
    "        else:\n",
    "            print(axis, \"doesn't know\")\n",
    "            has_changed = remove_impossible_areas(axis, True, grid, possible_cells, true_coords, eps, gl_bounds)\n",
    "\n",
    "        draw(fig, axs[ax_i, ax_j], grid, possible_cells, true_coords, gl_bounds)\n",
    "        ax_j = (ax_j + 1) % ncols\n",
    "        if ax_j == 0:\n",
    "            ax_i += 1\n",
    "\n",
    "        if not (has_changed_prev or has_changed):\n",
    "            break\n",
    "        has_changed_prev = has_changed\n",
    "        axis = 'x' if axis == 'y' else 'y'"
   ]
  },
  {
   "cell_type": "code",
   "execution_count": 8,
   "metadata": {
    "colab": {
     "base_uri": "https://localhost:8080/",
     "height": 1000
    },
    "id": "jOViAoJlPKaq",
    "outputId": "9ddbcdfc-3158-4e02-d3c2-4da025adc5da"
   },
   "outputs": [
    {
     "name": "stdout",
     "output_type": "stream",
     "text": [
      "x doesn't know\n",
      "y doesn't know\n",
      "x doesn't know\n",
      "y doesn't know\n"
     ]
    },
    {
     "data": {
      "image/png": "[encoded data removed]",
      "text/plain": [
       "<Figure size 1200x1200 with 4 Axes>"
      ]
     },
     "metadata": {},
     "output_type": "display_data"
    }
   ],
   "source": [
    "run_process(eps, gl_bounds, true_coords, grid, possible_cells)"
   ]
  },
  {
   "cell_type": "code",
   "execution_count": 152,
   "metadata": {
    "id": "84Tf4reAPGNw"
   },
   "outputs": [],
   "source": []
  },
  {
   "cell_type": "code",
   "execution_count": null,
   "metadata": {
    "id": "azbCLwhsPGQa"
   },
   "outputs": [],
   "source": []
  }
 ],
 "metadata": {
  "colab": {
   "provenance": []
  },
  "kernelspec": {
   "display_name": "Python 3 (ipykernel)",
   "language": "python",
   "name": "python3"
  },
  "language_info": {
   "codemirror_mode": {
    "name": "ipython",
    "version": 3
   },
   "file_extension": ".py",
   "mimetype": "text/x-python",
   "name": "python",
   "nbconvert_exporter": "python",
   "pygments_lexer": "ipython3",
   "version": "3.10.9"
  }
 },
 "nbformat": 4,
 "nbformat_minor": 1
}
